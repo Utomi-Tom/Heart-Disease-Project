{
  "cells": [
    {
      "cell_type": "markdown",
      "metadata": {
        "id": "view-in-github",
        "colab_type": "text"
      },
      "source": [
        "<a href=\"https://colab.research.google.com/github/Utomi-Tom/Heart-Disease-Project/blob/main/Heart_Disease_Classification.ipynb\" target=\"_parent\"><img src=\"https://colab.research.google.com/assets/colab-badge.svg\" alt=\"Open In Colab\"/></a>"
      ]
    },
    {
      "cell_type": "markdown",
      "metadata": {
        "id": "S85yMPhH-6bm"
      },
      "source": [
        "# Predicting heart disease using ML\n",
        "\n",
        "This notebook looks into various python based machine learning and datascience libraries in an attempt to build a machine learning model which capable of predicting if a person has heart disease based on several medical attributes. \n",
        "\n",
        "We are going to use the following approach:\n",
        "1. Problem definition\n",
        "2. Data\n",
        "3. Evaluation\n",
        "4. Features\n",
        "5. Modelling \n",
        "6. Experimentation\n",
        "\n",
        "***Problem Definition***\n",
        "In a statement, \n",
        "> Given clinical parameters about a patient. Can we predict whether or not they have heart disease?\n",
        "\n",
        "***Data***\n",
        "\n",
        "A short introduction about data is good. \n",
        "This database contains 76 attributes, but all published experiments refer to using a subset of 14 of them. In particular, the Cleveland database is the only one that has been used by ML researchers to\n",
        "this date. \n",
        "\n",
        "source: https://www.kaggle.com/ronitf/heart-disease-uci#heart.csv"
      ]
    },
    {
      "cell_type": "markdown",
      "metadata": {
        "id": "ZIuFMZfM-6bt"
      },
      "source": [
        "# Create a data dictionary. this defines the properties and labels of the dataset.\n",
        "ageage in years\n",
        "\n",
        "sex(1 = male; 0 = female)\n",
        "\n",
        "cpchest pain type\n",
        "\n",
        "trestbpsresting blood pressure (in mm Hg on admission to the hospital)\n",
        "\n",
        "cholserum cholestoral in mg/dl\n",
        "\n",
        "fbs(fasting blood sugar > 120 mg/dl) (1 = true; 0 = false)\n",
        "\n",
        "restecgresting electrocardiographic results\n",
        "\n",
        "thalachmaximum heart rate achieved\n",
        "\n",
        "exangexercise induced angina (1 = yes; 0 = no)\n",
        "\n",
        "oldpeakST depression induced by exercise relative to rest\n",
        "\n",
        "slopethe slope of the peak exercise ST segment\n",
        "\n",
        "canumber of major vessels (0-3) colored by flourosopy\n",
        "\n",
        "thal3 = normal; 6 = fixed defect; 7 = reversable defect\n",
        "\n",
        "target1 or 0\n"
      ]
    },
    {
      "cell_type": "markdown",
      "metadata": {
        "id": "qVe5InN_-6bu"
      },
      "source": [
        "## 3. Evaluation \n",
        "> if we can reach 95% accuracy in predicting whether or not if a patient has heart disease"
      ]
    },
    {
      "cell_type": "markdown",
      "metadata": {
        "id": "zrnDNO1S-6bv"
      },
      "source": [
        "## 4. Features\n",
        "This gives details about the features of the data.  "
      ]
    },
    {
      "cell_type": "code",
      "execution_count": null,
      "metadata": {
        "id": "09r0Va7K-6bw"
      },
      "outputs": [],
      "source": [
        "# Setting up the tools for analysis\n",
        "\n",
        "import numpy as np\n",
        "import matplotlib.pyplot as plt \n",
        "import pandas as pd \n",
        "import seaborn as sns\n",
        "\n",
        "%matplotlib inline\n",
        "\n",
        "from sklearn.linear_model import LogisticRegression\n",
        "from sklearn.ensemble import RandomForestClassifier\n",
        "from sklearn.neighbors import KNeighborsClassifier\n",
        "\n",
        "from sklearn.model_selection import train_test_split\n",
        "from sklearn.model_selection import RandomizedSearchCV,GridSearchCV\n",
        "from sklearn.model_selection import cross_val_score\n",
        "\n",
        "\n",
        "from sklearn.metrics import confusion_matrix, classification_report\n",
        "from sklearn.metrics import precision_score, recall_score, f1_score\n",
        "from sklearn import metrics"
      ]
    },
    {
      "cell_type": "code",
      "execution_count": null,
      "metadata": {
        "id": "vYoVOnUf-6by"
      },
      "outputs": [],
      "source": []
    },
    {
      "cell_type": "markdown",
      "metadata": {
        "id": "0IXheeWp-6by"
      },
      "source": [
        "## Load Data"
      ]
    },
    {
      "cell_type": "code",
      "execution_count": null,
      "metadata": {
        "id": "b-pRUyqV-6bz",
        "outputId": "00497395-86e3-4db8-f878-535c45b933d1"
      },
      "outputs": [
        {
          "data": {
            "text/plain": [
              "(303, 14)"
            ]
          },
          "execution_count": 4,
          "metadata": {},
          "output_type": "execute_result"
        }
      ],
      "source": [
        "df = pd.read_csv(\"heart-disease.csv\")\n",
        "df.shape"
      ]
    },
    {
      "cell_type": "markdown",
      "metadata": {
        "id": "DFKAjz3A-6b0"
      },
      "source": [
        "# Data Exploration\n",
        "\n",
        "***Exploratory Data Analysis (EDA)***\n",
        "\n",
        "The goal here is to become a subject matter expert and find out information about the dataset. \n",
        "\n",
        "1. What questions am I trying to solve?\n",
        "2. what are the data  types and how do I treat them?\n",
        "3. What is missing from the data and how do i deal with them?\n",
        "4. where are the outliers and why should I care about them.\n",
        "5. How can I manipulate the features to get more out of my data?\n",
        "\n"
      ]
    },
    {
      "cell_type": "code",
      "execution_count": null,
      "metadata": {
        "id": "NaOE2z84-6b1",
        "outputId": "aa47516c-690e-477a-e042-400ecb8bd0c8"
      },
      "outputs": [
        {
          "data": {
            "text/plain": [
              "1    165\n",
              "0    138\n",
              "Name: target, dtype: int64"
            ]
          },
          "execution_count": 5,
          "metadata": {},
          "output_type": "execute_result"
        }
      ],
      "source": [
        "# With this code I am trying to understand the nature of my target label. \n",
        "\n",
        "df.target.value_counts()"
      ]
    },
    {
      "cell_type": "code",
      "execution_count": null,
      "metadata": {
        "id": "0hvT3R7F-6b2",
        "outputId": "01be416f-b53f-42bd-b442-247642224367"
      },
      "outputs": [
        {
          "data": {
            "image/png": "[encoded data removed]",
            "text/plain": [
              "<Figure size 432x288 with 1 Axes>"
            ]
          },
          "metadata": {
            "needs_background": "light"
          },
          "output_type": "display_data"
        }
      ],
      "source": [
        "# Visualise the distribution of heart disease\n",
        "df[\"target\"].value_counts().plot(kind =\"bar\", color = [\"black\", \"blue\"]);"
      ]
    },
    {
      "cell_type": "code",
      "execution_count": null,
      "metadata": {
        "id": "A888gsMt-6b3",
        "outputId": "792d3d3d-76cd-4dea-e74d-c0a6c8d27622"
      },
      "outputs": [
        {
          "data": {
            "text/plain": [
              "<bound method DataFrame.info of      age  sex  cp  trestbps  chol  fbs  restecg  thalach  exang  oldpeak  \\\n",
              "0     63    1   3       145   233    1        0      150      0      2.3   \n",
              "1     37    1   2       130   250    0        1      187      0      3.5   \n",
              "2     41    0   1       130   204    0        0      172      0      1.4   \n",
              "3     56    1   1       120   236    0        1      178      0      0.8   \n",
              "4     57    0   0       120   354    0        1      163      1      0.6   \n",
              "..   ...  ...  ..       ...   ...  ...      ...      ...    ...      ...   \n",
              "298   57    0   0       140   241    0        1      123      1      0.2   \n",
              "299   45    1   3       110   264    0        1      132      0      1.2   \n",
              "300   68    1   0       144   193    1        1      141      0      3.4   \n",
              "301   57    1   0       130   131    0        1      115      1      1.2   \n",
              "302   57    0   1       130   236    0        0      174      0      0.0   \n",
              "\n",
              "     slope  ca  thal  target  \n",
              "0        0   0     1       1  \n",
              "1        0   0     2       1  \n",
              "2        2   0     2       1  \n",
              "3        2   0     2       1  \n",
              "4        2   0     2       1  \n",
              "..     ...  ..   ...     ...  \n",
              "298      1   0     3       0  \n",
              "299      1   0     3       0  \n",
              "300      1   2     3       0  \n",
              "301      1   1     3       0  \n",
              "302      1   1     2       0  \n",
              "\n",
              "[303 rows x 14 columns]>"
            ]
          },
          "execution_count": 7,
          "metadata": {},
          "output_type": "execute_result"
        }
      ],
      "source": [
        "df.info"
      ]
    },
    {
      "cell_type": "code",
      "execution_count": null,
      "metadata": {
        "id": "7pP6O1If-6b3",
        "outputId": "bed6278d-660a-4be1-d6d6-61432057de88"
      },
      "outputs": [
        {
          "data": {
            "text/plain": [
              "age         0\n",
              "sex         0\n",
              "cp          0\n",
              "trestbps    0\n",
              "chol        0\n",
              "fbs         0\n",
              "restecg     0\n",
              "thalach     0\n",
              "exang       0\n",
              "oldpeak     0\n",
              "slope       0\n",
              "ca          0\n",
              "thal        0\n",
              "target      0\n",
              "dtype: int64"
            ]
          },
          "execution_count": 8,
          "metadata": {},
          "output_type": "execute_result"
        }
      ],
      "source": [
        "df.isna().sum()"
      ]
    },
    {
      "cell_type": "code",
      "execution_count": null,
      "metadata": {
        "id": "7Hn7ATie-6b4",
        "outputId": "17ff4147-2843-40f1-fa2e-66582db1e069"
      },
      "outputs": [
        {
          "data": {
            "text/html": [
              "<div>\n",
              "<style scoped>\n",
              "    .dataframe tbody tr th:only-of-type {\n",
              "        vertical-align: middle;\n",
              "    }\n",
              "\n",
              "    .dataframe tbody tr th {\n",
              "        vertical-align: top;\n",
              "    }\n",
              "\n",
              "    .dataframe thead th {\n",
              "        text-align: right;\n",
              "    }\n",
              "</style>\n",
              "<table border=\"1\" class=\"dataframe\">\n",
              "  <thead>\n",
              "    <tr style=\"text-align: right;\">\n",
              "      <th></th>\n",
              "      <th>age</th>\n",
              "      <th>sex</th>\n",
              "      <th>cp</th>\n",
              "      <th>trestbps</th>\n",
              "      <th>chol</th>\n",
              "      <th>fbs</th>\n",
              "      <th>restecg</th>\n",
              "      <th>thalach</th>\n",
              "      <th>exang</th>\n",
              "      <th>oldpeak</th>\n",
              "      <th>slope</th>\n",
              "      <th>ca</th>\n",
              "      <th>thal</th>\n",
              "      <th>target</th>\n",
              "    </tr>\n",
              "  </thead>\n",
              "  <tbody>\n",
              "    <tr>\n",
              "      <th>count</th>\n",
              "      <td>303.000000</td>\n",
              "      <td>303.000000</td>\n",
              "      <td>303.000000</td>\n",
              "      <td>303.000000</td>\n",
              "      <td>303.000000</td>\n",
              "      <td>303.000000</td>\n",
              "      <td>303.000000</td>\n",
              "      <td>303.000000</td>\n",
              "      <td>303.000000</td>\n",
              "      <td>303.000000</td>\n",
              "      <td>303.000000</td>\n",
              "      <td>303.000000</td>\n",
              "      <td>303.000000</td>\n",
              "      <td>303.000000</td>\n",
              "    </tr>\n",
              "    <tr>\n",
              "      <th>mean</th>\n",
              "      <td>54.366337</td>\n",
              "      <td>0.683168</td>\n",
              "      <td>0.966997</td>\n",
              "      <td>131.623762</td>\n",
              "      <td>246.264026</td>\n",
              "      <td>0.148515</td>\n",
              "      <td>0.528053</td>\n",
              "      <td>149.646865</td>\n",
              "      <td>0.326733</td>\n",
              "      <td>1.039604</td>\n",
              "      <td>1.399340</td>\n",
              "      <td>0.729373</td>\n",
              "      <td>2.313531</td>\n",
              "      <td>0.544554</td>\n",
              "    </tr>\n",
              "    <tr>\n",
              "      <th>std</th>\n",
              "      <td>9.082101</td>\n",
              "      <td>0.466011</td>\n",
              "      <td>1.032052</td>\n",
              "      <td>17.538143</td>\n",
              "      <td>51.830751</td>\n",
              "      <td>0.356198</td>\n",
              "      <td>0.525860</td>\n",
              "      <td>22.905161</td>\n",
              "      <td>0.469794</td>\n",
              "      <td>1.161075</td>\n",
              "      <td>0.616226</td>\n",
              "      <td>1.022606</td>\n",
              "      <td>0.612277</td>\n",
              "      <td>0.498835</td>\n",
              "    </tr>\n",
              "    <tr>\n",
              "      <th>min</th>\n",
              "      <td>29.000000</td>\n",
              "      <td>0.000000</td>\n",
              "      <td>0.000000</td>\n",
              "      <td>94.000000</td>\n",
              "      <td>126.000000</td>\n",
              "      <td>0.000000</td>\n",
              "      <td>0.000000</td>\n",
              "      <td>71.000000</td>\n",
              "      <td>0.000000</td>\n",
              "      <td>0.000000</td>\n",
              "      <td>0.000000</td>\n",
              "      <td>0.000000</td>\n",
              "      <td>0.000000</td>\n",
              "      <td>0.000000</td>\n",
              "    </tr>\n",
              "    <tr>\n",
              "      <th>25%</th>\n",
              "      <td>47.500000</td>\n",
              "      <td>0.000000</td>\n",
              "      <td>0.000000</td>\n",
              "      <td>120.000000</td>\n",
              "      <td>211.000000</td>\n",
              "      <td>0.000000</td>\n",
              "      <td>0.000000</td>\n",
              "      <td>133.500000</td>\n",
              "      <td>0.000000</td>\n",
              "      <td>0.000000</td>\n",
              "      <td>1.000000</td>\n",
              "      <td>0.000000</td>\n",
              "      <td>2.000000</td>\n",
              "      <td>0.000000</td>\n",
              "    </tr>\n",
              "    <tr>\n",
              "      <th>50%</th>\n",
              "      <td>55.000000</td>\n",
              "      <td>1.000000</td>\n",
              "      <td>1.000000</td>\n",
              "      <td>130.000000</td>\n",
              "      <td>240.000000</td>\n",
              "      <td>0.000000</td>\n",
              "      <td>1.000000</td>\n",
              "      <td>153.000000</td>\n",
              "      <td>0.000000</td>\n",
              "      <td>0.800000</td>\n",
              "      <td>1.000000</td>\n",
              "      <td>0.000000</td>\n",
              "      <td>2.000000</td>\n",
              "      <td>1.000000</td>\n",
              "    </tr>\n",
              "    <tr>\n",
              "      <th>75%</th>\n",
              "      <td>61.000000</td>\n",
              "      <td>1.000000</td>\n",
              "      <td>2.000000</td>\n",
              "      <td>140.000000</td>\n",
              "      <td>274.500000</td>\n",
              "      <td>0.000000</td>\n",
              "      <td>1.000000</td>\n",
              "      <td>166.000000</td>\n",
              "      <td>1.000000</td>\n",
              "      <td>1.600000</td>\n",
              "      <td>2.000000</td>\n",
              "      <td>1.000000</td>\n",
              "      <td>3.000000</td>\n",
              "      <td>1.000000</td>\n",
              "    </tr>\n",
              "    <tr>\n",
              "      <th>max</th>\n",
              "      <td>77.000000</td>\n",
              "      <td>1.000000</td>\n",
              "      <td>3.000000</td>\n",
              "      <td>200.000000</td>\n",
              "      <td>564.000000</td>\n",
              "      <td>1.000000</td>\n",
              "      <td>2.000000</td>\n",
              "      <td>202.000000</td>\n",
              "      <td>1.000000</td>\n",
              "      <td>6.200000</td>\n",
              "      <td>2.000000</td>\n",
              "      <td>4.000000</td>\n",
              "      <td>3.000000</td>\n",
              "      <td>1.000000</td>\n",
              "    </tr>\n",
              "  </tbody>\n",
              "</table>\n",
              "</div>"
            ],
            "text/plain": [
              "              age         sex          cp    trestbps        chol         fbs  \\\n",
              "count  303.000000  303.000000  303.000000  303.000000  303.000000  303.000000   \n",
              "mean    54.366337    0.683168    0.966997  131.623762  246.264026    0.148515   \n",
              "std      9.082101    0.466011    1.032052   17.538143   51.830751    0.356198   \n",
              "min     29.000000    0.000000    0.000000   94.000000  126.000000    0.000000   \n",
              "25%     47.500000    0.000000    0.000000  120.000000  211.000000    0.000000   \n",
              "50%     55.000000    1.000000    1.000000  130.000000  240.000000    0.000000   \n",
              "75%     61.000000    1.000000    2.000000  140.000000  274.500000    0.000000   \n",
              "max     77.000000    1.000000    3.000000  200.000000  564.000000    1.000000   \n",
              "\n",
              "          restecg     thalach       exang     oldpeak       slope          ca  \\\n",
              "count  303.000000  303.000000  303.000000  303.000000  303.000000  303.000000   \n",
              "mean     0.528053  149.646865    0.326733    1.039604    1.399340    0.729373   \n",
              "std      0.525860   22.905161    0.469794    1.161075    0.616226    1.022606   \n",
              "min      0.000000   71.000000    0.000000    0.000000    0.000000    0.000000   \n",
              "25%      0.000000  133.500000    0.000000    0.000000    1.000000    0.000000   \n",
              "50%      1.000000  153.000000    0.000000    0.800000    1.000000    0.000000   \n",
              "75%      1.000000  166.000000    1.000000    1.600000    2.000000    1.000000   \n",
              "max      2.000000  202.000000    1.000000    6.200000    2.000000    4.000000   \n",
              "\n",
              "             thal      target  \n",
              "count  303.000000  303.000000  \n",
              "mean     2.313531    0.544554  \n",
              "std      0.612277    0.498835  \n",
              "min      0.000000    0.000000  \n",
              "25%      2.000000    0.000000  \n",
              "50%      2.000000    1.000000  \n",
              "75%      3.000000    1.000000  \n",
              "max      3.000000    1.000000  "
            ]
          },
          "execution_count": 9,
          "metadata": {},
          "output_type": "execute_result"
        }
      ],
      "source": [
        "df.describe()"
      ]
    },
    {
      "cell_type": "markdown",
      "metadata": {
        "id": "PXKWZtYg-6b4"
      },
      "source": [
        "## Feature Engineering\n",
        "we compare different column and see how they influence the target column"
      ]
    },
    {
      "cell_type": "code",
      "execution_count": null,
      "metadata": {
        "id": "JYSpfnsC-6b5",
        "outputId": "a39a0827-d607-4480-fa03-2c1520b9e08b"
      },
      "outputs": [
        {
          "data": {
            "text/plain": [
              "1    207\n",
              "0     96\n",
              "Name: sex, dtype: int64"
            ]
          },
          "execution_count": 10,
          "metadata": {},
          "output_type": "execute_result"
        }
      ],
      "source": [
        "df.sex.value_counts()"
      ]
    },
    {
      "cell_type": "code",
      "execution_count": null,
      "metadata": {
        "id": "Orma6mxr-6b5",
        "outputId": "a7a59894-d3d9-4392-bc2d-a662284b83a6"
      },
      "outputs": [
        {
          "data": {
            "text/html": [
              "<div>\n",
              "<style scoped>\n",
              "    .dataframe tbody tr th:only-of-type {\n",
              "        vertical-align: middle;\n",
              "    }\n",
              "\n",
              "    .dataframe tbody tr th {\n",
              "        vertical-align: top;\n",
              "    }\n",
              "\n",
              "    .dataframe thead th {\n",
              "        text-align: right;\n",
              "    }\n",
              "</style>\n",
              "<table border=\"1\" class=\"dataframe\">\n",
              "  <thead>\n",
              "    <tr style=\"text-align: right;\">\n",
              "      <th>sex</th>\n",
              "      <th>0</th>\n",
              "      <th>1</th>\n",
              "    </tr>\n",
              "    <tr>\n",
              "      <th>target</th>\n",
              "      <th></th>\n",
              "      <th></th>\n",
              "    </tr>\n",
              "  </thead>\n",
              "  <tbody>\n",
              "    <tr>\n",
              "      <th>0</th>\n",
              "      <td>24</td>\n",
              "      <td>114</td>\n",
              "    </tr>\n",
              "    <tr>\n",
              "      <th>1</th>\n",
              "      <td>72</td>\n",
              "      <td>93</td>\n",
              "    </tr>\n",
              "  </tbody>\n",
              "</table>\n",
              "</div>"
            ],
            "text/plain": [
              "sex      0    1\n",
              "target         \n",
              "0       24  114\n",
              "1       72   93"
            ]
          },
          "execution_count": 11,
          "metadata": {},
          "output_type": "execute_result"
        }
      ],
      "source": [
        "# compare target column with sex column\n",
        "pd.crosstab (df.target, df.sex)"
      ]
    },
    {
      "cell_type": "code",
      "execution_count": null,
      "metadata": {
        "id": "CTsmRBwk-6b6",
        "outputId": "38f6822a-2b3a-484d-ea67-fdc30dc1387f"
      },
      "outputs": [
        {
          "data": {
            "image/png": "[encoded data removed]",
            "text/plain": [
              "<Figure size 360x216 with 1 Axes>"
            ]
          },
          "metadata": {
            "needs_background": "light"
          },
          "output_type": "display_data"
        }
      ],
      "source": [
        "# create a plot to visualize the above relationship\n",
        "pd.crosstab(df.sex, df.target).plot(kind=\"bar\",figsize= (5,3), color= [\"black\", \"blue\"] )\n",
        "plt.title(\"Heart Disease Frequency based on Gender\")\n",
        "plt.xlabel(\"0 = No Disease, 1 = Disease\")\n",
        "plt.ylabel(\"Frequency\")\n",
        "plt.legend([\"Female\", \"Male\"]);\n",
        "plt.xticks(rotation=0);"
      ]
    },
    {
      "cell_type": "markdown",
      "metadata": {
        "id": "0ZMGbbtl-6b6"
      },
      "source": [
        "***compare the age, thalach and target columns**\n"
      ]
    },
    {
      "cell_type": "code",
      "execution_count": null,
      "metadata": {
        "id": "j7S-n7NI-6b7",
        "outputId": "f962b7d3-1681-4b9f-c3b3-9ea37dd0ec7e"
      },
      "outputs": [
        {
          "data": {
            "text/plain": [
              "162    11\n",
              "160     9\n",
              "163     9\n",
              "173     8\n",
              "152     8\n",
              "       ..\n",
              "129     1\n",
              "128     1\n",
              "127     1\n",
              "124     1\n",
              "71      1\n",
              "Name: thalach, Length: 91, dtype: int64"
            ]
          },
          "execution_count": 13,
          "metadata": {},
          "output_type": "execute_result"
        }
      ],
      "source": [
        "df.thalach.value_counts()"
      ]
    },
    {
      "cell_type": "code",
      "execution_count": null,
      "metadata": {
        "id": "5Bgq_P0v-6b7",
        "outputId": "362cde58-956f-45c7-b902-34322d78f0e5"
      },
      "outputs": [
        {
          "data": {
            "image/png": "[encoded data removed]",
            "text/plain": [
              "<Figure size 720x360 with 1 Axes>"
            ]
          },
          "metadata": {
            "needs_background": "light"
          },
          "output_type": "display_data"
        }
      ],
      "source": [
        "# create a figure to display plots\n",
        "plt.figure(figsize= (10,5))\n",
        "\n",
        "# Scatter with positive samples\n",
        "plt.scatter(df.age[df.target==1], df.thalach[df.target==1], c= \"purple\")\n",
        "# Scatter with negative samples\n",
        "plt.scatter (df.age[df.target==0], df.thalach[df.target==0], c= \"green\");\n",
        "\n",
        "plt.title(\"Heart Disease Function of Age and Thalach\")\n",
        "plt.xlabel(\"Age\")\n",
        "plt.ylabel(\"Max_heart_Rate\")\n",
        "plt.legend([\"Disease\", \"Free\"]);"
      ]
    },
    {
      "cell_type": "code",
      "execution_count": null,
      "metadata": {
        "id": "vDVOupcV-6b8",
        "outputId": "23464474-93c1-4547-8d1e-116445c95187"
      },
      "outputs": [
        {
          "data": {
            "image/png": "[encoded data removed]",
            "text/plain": [
              "<Figure size 432x288 with 1 Axes>"
            ]
          },
          "metadata": {
            "needs_background": "light"
          },
          "output_type": "display_data"
        }
      ],
      "source": [
        "# Consider the age distribution, the histogram will help correct for outliers in the dataset\n",
        "df.age.hist();"
      ]
    },
    {
      "cell_type": "markdown",
      "metadata": {
        "id": "w6_1HlBp-6b8"
      },
      "source": [
        "***Compare target column with chest pain column***"
      ]
    },
    {
      "cell_type": "code",
      "execution_count": null,
      "metadata": {
        "id": "a9G2VZvU-6b8",
        "outputId": "bb217e44-3315-4938-ecbc-354638298054"
      },
      "outputs": [
        {
          "data": {
            "text/html": [
              "<div>\n",
              "<style scoped>\n",
              "    .dataframe tbody tr th:only-of-type {\n",
              "        vertical-align: middle;\n",
              "    }\n",
              "\n",
              "    .dataframe tbody tr th {\n",
              "        vertical-align: top;\n",
              "    }\n",
              "\n",
              "    .dataframe thead th {\n",
              "        text-align: right;\n",
              "    }\n",
              "</style>\n",
              "<table border=\"1\" class=\"dataframe\">\n",
              "  <thead>\n",
              "    <tr style=\"text-align: right;\">\n",
              "      <th>target</th>\n",
              "      <th>0</th>\n",
              "      <th>1</th>\n",
              "    </tr>\n",
              "    <tr>\n",
              "      <th>cp</th>\n",
              "      <th></th>\n",
              "      <th></th>\n",
              "    </tr>\n",
              "  </thead>\n",
              "  <tbody>\n",
              "    <tr>\n",
              "      <th>0</th>\n",
              "      <td>104</td>\n",
              "      <td>39</td>\n",
              "    </tr>\n",
              "    <tr>\n",
              "      <th>1</th>\n",
              "      <td>9</td>\n",
              "      <td>41</td>\n",
              "    </tr>\n",
              "    <tr>\n",
              "      <th>2</th>\n",
              "      <td>18</td>\n",
              "      <td>69</td>\n",
              "    </tr>\n",
              "    <tr>\n",
              "      <th>3</th>\n",
              "      <td>7</td>\n",
              "      <td>16</td>\n",
              "    </tr>\n",
              "  </tbody>\n",
              "</table>\n",
              "</div>"
            ],
            "text/plain": [
              "target    0   1\n",
              "cp             \n",
              "0       104  39\n",
              "1         9  41\n",
              "2        18  69\n",
              "3         7  16"
            ]
          },
          "execution_count": 16,
          "metadata": {},
          "output_type": "execute_result"
        }
      ],
      "source": [
        "pd.crosstab(df.cp, df.target)"
      ]
    },
    {
      "cell_type": "code",
      "execution_count": null,
      "metadata": {
        "id": "oKd-FTda-6b9",
        "outputId": "236533b3-6c56-444f-d44c-bf638c90f304"
      },
      "outputs": [
        {
          "data": {
            "image/png": "[encoded data removed]",
            "text/plain": [
              "<Figure size 720x432 with 1 Axes>"
            ]
          },
          "metadata": {
            "needs_background": "light"
          },
          "output_type": "display_data"
        }
      ],
      "source": [
        "# Visualize the above relation\n",
        "\n",
        "pd.crosstab(df.cp, df.target).plot(kind=\"bar\", figsize= (10,6), color= [ \"green\",\"cyan\"] )\n",
        "\n",
        "plt.title(\"Heart Disease based on chest pain type\")\n",
        "plt.xlabel(\"Chest Pain Type\")\n",
        "plt.ylabel(\"Frequency\")\n",
        "plt.legend([\"No disease\", \"Disease\"])\n",
        "plt.xticks (rotation= 0);"
      ]
    },
    {
      "cell_type": "code",
      "execution_count": null,
      "metadata": {
        "id": "wwuTP7Ge-6b9"
      },
      "outputs": [],
      "source": []
    },
    {
      "cell_type": "code",
      "execution_count": null,
      "metadata": {
        "id": "YWZmhJEy-6b9",
        "outputId": "13eec854-36b7-4d32-ee56-d01139cc4fc7"
      },
      "outputs": [
        {
          "data": {
            "text/html": [
              "<div>\n",
              "<style scoped>\n",
              "    .dataframe tbody tr th:only-of-type {\n",
              "        vertical-align: middle;\n",
              "    }\n",
              "\n",
              "    .dataframe tbody tr th {\n",
              "        vertical-align: top;\n",
              "    }\n",
              "\n",
              "    .dataframe thead th {\n",
              "        text-align: right;\n",
              "    }\n",
              "</style>\n",
              "<table border=\"1\" class=\"dataframe\">\n",
              "  <thead>\n",
              "    <tr style=\"text-align: right;\">\n",
              "      <th></th>\n",
              "      <th>age</th>\n",
              "      <th>sex</th>\n",
              "      <th>cp</th>\n",
              "      <th>trestbps</th>\n",
              "      <th>chol</th>\n",
              "      <th>fbs</th>\n",
              "      <th>restecg</th>\n",
              "      <th>thalach</th>\n",
              "      <th>exang</th>\n",
              "      <th>oldpeak</th>\n",
              "      <th>slope</th>\n",
              "      <th>ca</th>\n",
              "      <th>thal</th>\n",
              "      <th>target</th>\n",
              "    </tr>\n",
              "  </thead>\n",
              "  <tbody>\n",
              "    <tr>\n",
              "      <th>age</th>\n",
              "      <td>1.000000</td>\n",
              "      <td>-0.098447</td>\n",
              "      <td>-0.068653</td>\n",
              "      <td>0.279351</td>\n",
              "      <td>0.213678</td>\n",
              "      <td>0.121308</td>\n",
              "      <td>-0.116211</td>\n",
              "      <td>-0.398522</td>\n",
              "      <td>0.096801</td>\n",
              "      <td>0.210013</td>\n",
              "      <td>-0.168814</td>\n",
              "      <td>0.276326</td>\n",
              "      <td>0.068001</td>\n",
              "      <td>-0.225439</td>\n",
              "    </tr>\n",
              "    <tr>\n",
              "      <th>sex</th>\n",
              "      <td>-0.098447</td>\n",
              "      <td>1.000000</td>\n",
              "      <td>-0.049353</td>\n",
              "      <td>-0.056769</td>\n",
              "      <td>-0.197912</td>\n",
              "      <td>0.045032</td>\n",
              "      <td>-0.058196</td>\n",
              "      <td>-0.044020</td>\n",
              "      <td>0.141664</td>\n",
              "      <td>0.096093</td>\n",
              "      <td>-0.030711</td>\n",
              "      <td>0.118261</td>\n",
              "      <td>0.210041</td>\n",
              "      <td>-0.280937</td>\n",
              "    </tr>\n",
              "    <tr>\n",
              "      <th>cp</th>\n",
              "      <td>-0.068653</td>\n",
              "      <td>-0.049353</td>\n",
              "      <td>1.000000</td>\n",
              "      <td>0.047608</td>\n",
              "      <td>-0.076904</td>\n",
              "      <td>0.094444</td>\n",
              "      <td>0.044421</td>\n",
              "      <td>0.295762</td>\n",
              "      <td>-0.394280</td>\n",
              "      <td>-0.149230</td>\n",
              "      <td>0.119717</td>\n",
              "      <td>-0.181053</td>\n",
              "      <td>-0.161736</td>\n",
              "      <td>0.433798</td>\n",
              "    </tr>\n",
              "    <tr>\n",
              "      <th>trestbps</th>\n",
              "      <td>0.279351</td>\n",
              "      <td>-0.056769</td>\n",
              "      <td>0.047608</td>\n",
              "      <td>1.000000</td>\n",
              "      <td>0.123174</td>\n",
              "      <td>0.177531</td>\n",
              "      <td>-0.114103</td>\n",
              "      <td>-0.046698</td>\n",
              "      <td>0.067616</td>\n",
              "      <td>0.193216</td>\n",
              "      <td>-0.121475</td>\n",
              "      <td>0.101389</td>\n",
              "      <td>0.062210</td>\n",
              "      <td>-0.144931</td>\n",
              "    </tr>\n",
              "    <tr>\n",
              "      <th>chol</th>\n",
              "      <td>0.213678</td>\n",
              "      <td>-0.197912</td>\n",
              "      <td>-0.076904</td>\n",
              "      <td>0.123174</td>\n",
              "      <td>1.000000</td>\n",
              "      <td>0.013294</td>\n",
              "      <td>-0.151040</td>\n",
              "      <td>-0.009940</td>\n",
              "      <td>0.067023</td>\n",
              "      <td>0.053952</td>\n",
              "      <td>-0.004038</td>\n",
              "      <td>0.070511</td>\n",
              "      <td>0.098803</td>\n",
              "      <td>-0.085239</td>\n",
              "    </tr>\n",
              "    <tr>\n",
              "      <th>fbs</th>\n",
              "      <td>0.121308</td>\n",
              "      <td>0.045032</td>\n",
              "      <td>0.094444</td>\n",
              "      <td>0.177531</td>\n",
              "      <td>0.013294</td>\n",
              "      <td>1.000000</td>\n",
              "      <td>-0.084189</td>\n",
              "      <td>-0.008567</td>\n",
              "      <td>0.025665</td>\n",
              "      <td>0.005747</td>\n",
              "      <td>-0.059894</td>\n",
              "      <td>0.137979</td>\n",
              "      <td>-0.032019</td>\n",
              "      <td>-0.028046</td>\n",
              "    </tr>\n",
              "    <tr>\n",
              "      <th>restecg</th>\n",
              "      <td>-0.116211</td>\n",
              "      <td>-0.058196</td>\n",
              "      <td>0.044421</td>\n",
              "      <td>-0.114103</td>\n",
              "      <td>-0.151040</td>\n",
              "      <td>-0.084189</td>\n",
              "      <td>1.000000</td>\n",
              "      <td>0.044123</td>\n",
              "      <td>-0.070733</td>\n",
              "      <td>-0.058770</td>\n",
              "      <td>0.093045</td>\n",
              "      <td>-0.072042</td>\n",
              "      <td>-0.011981</td>\n",
              "      <td>0.137230</td>\n",
              "    </tr>\n",
              "    <tr>\n",
              "      <th>thalach</th>\n",
              "      <td>-0.398522</td>\n",
              "      <td>-0.044020</td>\n",
              "      <td>0.295762</td>\n",
              "      <td>-0.046698</td>\n",
              "      <td>-0.009940</td>\n",
              "      <td>-0.008567</td>\n",
              "      <td>0.044123</td>\n",
              "      <td>1.000000</td>\n",
              "      <td>-0.378812</td>\n",
              "      <td>-0.344187</td>\n",
              "      <td>0.386784</td>\n",
              "      <td>-0.213177</td>\n",
              "      <td>-0.096439</td>\n",
              "      <td>0.421741</td>\n",
              "    </tr>\n",
              "    <tr>\n",
              "      <th>exang</th>\n",
              "      <td>0.096801</td>\n",
              "      <td>0.141664</td>\n",
              "      <td>-0.394280</td>\n",
              "      <td>0.067616</td>\n",
              "      <td>0.067023</td>\n",
              "      <td>0.025665</td>\n",
              "      <td>-0.070733</td>\n",
              "      <td>-0.378812</td>\n",
              "      <td>1.000000</td>\n",
              "      <td>0.288223</td>\n",
              "      <td>-0.257748</td>\n",
              "      <td>0.115739</td>\n",
              "      <td>0.206754</td>\n",
              "      <td>-0.436757</td>\n",
              "    </tr>\n",
              "    <tr>\n",
              "      <th>oldpeak</th>\n",
              "      <td>0.210013</td>\n",
              "      <td>0.096093</td>\n",
              "      <td>-0.149230</td>\n",
              "      <td>0.193216</td>\n",
              "      <td>0.053952</td>\n",
              "      <td>0.005747</td>\n",
              "      <td>-0.058770</td>\n",
              "      <td>-0.344187</td>\n",
              "      <td>0.288223</td>\n",
              "      <td>1.000000</td>\n",
              "      <td>-0.577537</td>\n",
              "      <td>0.222682</td>\n",
              "      <td>0.210244</td>\n",
              "      <td>-0.430696</td>\n",
              "    </tr>\n",
              "    <tr>\n",
              "      <th>slope</th>\n",
              "      <td>-0.168814</td>\n",
              "      <td>-0.030711</td>\n",
              "      <td>0.119717</td>\n",
              "      <td>-0.121475</td>\n",
              "      <td>-0.004038</td>\n",
              "      <td>-0.059894</td>\n",
              "      <td>0.093045</td>\n",
              "      <td>0.386784</td>\n",
              "      <td>-0.257748</td>\n",
              "      <td>-0.577537</td>\n",
              "      <td>1.000000</td>\n",
              "      <td>-0.080155</td>\n",
              "      <td>-0.104764</td>\n",
              "      <td>0.345877</td>\n",
              "    </tr>\n",
              "    <tr>\n",
              "      <th>ca</th>\n",
              "      <td>0.276326</td>\n",
              "      <td>0.118261</td>\n",
              "      <td>-0.181053</td>\n",
              "      <td>0.101389</td>\n",
              "      <td>0.070511</td>\n",
              "      <td>0.137979</td>\n",
              "      <td>-0.072042</td>\n",
              "      <td>-0.213177</td>\n",
              "      <td>0.115739</td>\n",
              "      <td>0.222682</td>\n",
              "      <td>-0.080155</td>\n",
              "      <td>1.000000</td>\n",
              "      <td>0.151832</td>\n",
              "      <td>-0.391724</td>\n",
              "    </tr>\n",
              "    <tr>\n",
              "      <th>thal</th>\n",
              "      <td>0.068001</td>\n",
              "      <td>0.210041</td>\n",
              "      <td>-0.161736</td>\n",
              "      <td>0.062210</td>\n",
              "      <td>0.098803</td>\n",
              "      <td>-0.032019</td>\n",
              "      <td>-0.011981</td>\n",
              "      <td>-0.096439</td>\n",
              "      <td>0.206754</td>\n",
              "      <td>0.210244</td>\n",
              "      <td>-0.104764</td>\n",
              "      <td>0.151832</td>\n",
              "      <td>1.000000</td>\n",
              "      <td>-0.344029</td>\n",
              "    </tr>\n",
              "    <tr>\n",
              "      <th>target</th>\n",
              "      <td>-0.225439</td>\n",
              "      <td>-0.280937</td>\n",
              "      <td>0.433798</td>\n",
              "      <td>-0.144931</td>\n",
              "      <td>-0.085239</td>\n",
              "      <td>-0.028046</td>\n",
              "      <td>0.137230</td>\n",
              "      <td>0.421741</td>\n",
              "      <td>-0.436757</td>\n",
              "      <td>-0.430696</td>\n",
              "      <td>0.345877</td>\n",
              "      <td>-0.391724</td>\n",
              "      <td>-0.344029</td>\n",
              "      <td>1.000000</td>\n",
              "    </tr>\n",
              "  </tbody>\n",
              "</table>\n",
              "</div>"
            ],
            "text/plain": [
              "               age       sex        cp  trestbps      chol       fbs  \\\n",
              "age       1.000000 -0.098447 -0.068653  0.279351  0.213678  0.121308   \n",
              "sex      -0.098447  1.000000 -0.049353 -0.056769 -0.197912  0.045032   \n",
              "cp       -0.068653 -0.049353  1.000000  0.047608 -0.076904  0.094444   \n",
              "trestbps  0.279351 -0.056769  0.047608  1.000000  0.123174  0.177531   \n",
              "chol      0.213678 -0.197912 -0.076904  0.123174  1.000000  0.013294   \n",
              "fbs       0.121308  0.045032  0.094444  0.177531  0.013294  1.000000   \n",
              "restecg  -0.116211 -0.058196  0.044421 -0.114103 -0.151040 -0.084189   \n",
              "thalach  -0.398522 -0.044020  0.295762 -0.046698 -0.009940 -0.008567   \n",
              "exang     0.096801  0.141664 -0.394280  0.067616  0.067023  0.025665   \n",
              "oldpeak   0.210013  0.096093 -0.149230  0.193216  0.053952  0.005747   \n",
              "slope    -0.168814 -0.030711  0.119717 -0.121475 -0.004038 -0.059894   \n",
              "ca        0.276326  0.118261 -0.181053  0.101389  0.070511  0.137979   \n",
              "thal      0.068001  0.210041 -0.161736  0.062210  0.098803 -0.032019   \n",
              "target   -0.225439 -0.280937  0.433798 -0.144931 -0.085239 -0.028046   \n",
              "\n",
              "           restecg   thalach     exang   oldpeak     slope        ca  \\\n",
              "age      -0.116211 -0.398522  0.096801  0.210013 -0.168814  0.276326   \n",
              "sex      -0.058196 -0.044020  0.141664  0.096093 -0.030711  0.118261   \n",
              "cp        0.044421  0.295762 -0.394280 -0.149230  0.119717 -0.181053   \n",
              "trestbps -0.114103 -0.046698  0.067616  0.193216 -0.121475  0.101389   \n",
              "chol     -0.151040 -0.009940  0.067023  0.053952 -0.004038  0.070511   \n",
              "fbs      -0.084189 -0.008567  0.025665  0.005747 -0.059894  0.137979   \n",
              "restecg   1.000000  0.044123 -0.070733 -0.058770  0.093045 -0.072042   \n",
              "thalach   0.044123  1.000000 -0.378812 -0.344187  0.386784 -0.213177   \n",
              "exang    -0.070733 -0.378812  1.000000  0.288223 -0.257748  0.115739   \n",
              "oldpeak  -0.058770 -0.344187  0.288223  1.000000 -0.577537  0.222682   \n",
              "slope     0.093045  0.386784 -0.257748 -0.577537  1.000000 -0.080155   \n",
              "ca       -0.072042 -0.213177  0.115739  0.222682 -0.080155  1.000000   \n",
              "thal     -0.011981 -0.096439  0.206754  0.210244 -0.104764  0.151832   \n",
              "target    0.137230  0.421741 -0.436757 -0.430696  0.345877 -0.391724   \n",
              "\n",
              "              thal    target  \n",
              "age       0.068001 -0.225439  \n",
              "sex       0.210041 -0.280937  \n",
              "cp       -0.161736  0.433798  \n",
              "trestbps  0.062210 -0.144931  \n",
              "chol      0.098803 -0.085239  \n",
              "fbs      -0.032019 -0.028046  \n",
              "restecg  -0.011981  0.137230  \n",
              "thalach  -0.096439  0.421741  \n",
              "exang     0.206754 -0.436757  \n",
              "oldpeak   0.210244 -0.430696  \n",
              "slope    -0.104764  0.345877  \n",
              "ca        0.151832 -0.391724  \n",
              "thal      1.000000 -0.344029  \n",
              "target   -0.344029  1.000000  "
            ]
          },
          "execution_count": 18,
          "metadata": {},
          "output_type": "execute_result"
        }
      ],
      "source": [
        "# Make a correlation matrix to see the relationship between the features if its positive or negative\n",
        "\n",
        "df.corr()"
      ]
    },
    {
      "cell_type": "code",
      "execution_count": null,
      "metadata": {
        "id": "HbQiz4cN-6b-",
        "outputId": "b781d1ab-0cce-4185-9a12-5a2febea48ad"
      },
      "outputs": [
        {
          "data": {
            "image/png": "[encoded data removed]",
            "text/plain": [
              "<Figure size 1080x648 with 2 Axes>"
            ]
          },
          "metadata": {
            "needs_background": "light"
          },
          "output_type": "display_data"
        }
      ],
      "source": [
        "corr_matrix = df.corr()\n",
        "\n",
        "fig, ax = plt.subplots(figsize= (15, 9))\n",
        "\n",
        "ax = sns.heatmap (corr_matrix, annot= True, linewidth= 0.5, fmt = \".2f\", cmap = \"coolwarm\")"
      ]
    },
    {
      "cell_type": "markdown",
      "metadata": {
        "id": "25QGHMdD-6b-"
      },
      "source": [
        "## 5. Modelling"
      ]
    },
    {
      "cell_type": "code",
      "execution_count": null,
      "metadata": {
        "id": "CXOKyJR6-6b-"
      },
      "outputs": [],
      "source": [
        "# split data\n",
        "M = df.drop(\"target\", axis=1)\n",
        "N = df[\"target\"]"
      ]
    },
    {
      "cell_type": "code",
      "execution_count": null,
      "metadata": {
        "id": "poE00xCI-6b-"
      },
      "outputs": [],
      "source": [
        "np.random.seed(42)\n",
        "\n",
        "M_tr,M_tt,N_tr,N_tt = train_test_split(M, N , test_size= 0.2)\n"
      ]
    },
    {
      "cell_type": "markdown",
      "metadata": {
        "id": "fVSDRFkU-6b_"
      },
      "source": [
        "Build a ML Model using:\n",
        "\n",
        "1. RandomForestClassifier\n",
        "2. K-NearestNeighbor\n",
        "3. LogisticRegression"
      ]
    },
    {
      "cell_type": "code",
      "execution_count": null,
      "metadata": {
        "id": "Hjhcez1d-6b_"
      },
      "outputs": [],
      "source": [
        "# put models in a dictionary\n",
        "\n",
        "models = {\"Logistic Regression\": LogisticRegression(max_iter = 1000),\n",
        "          \"KNN\":KNeighborsClassifier(),\n",
        "          \"Random Forest\":RandomForestClassifier()}\n",
        "\n",
        "# create a function that would use the dictionary of models\n",
        "\n",
        "def fit_score(models,X_train,X_test,y_train,y_test):\n",
        "    \"\"\"\n",
        "    Fits and Evaluates a ML models.\n",
        "    \n",
        "    \"\"\"\n",
        "    np.random.seed(42)\n",
        "    # Make a dictionary to keep model scores\n",
        "   \n",
        "    model_score= {}\n",
        "    for name, model in models.items():\n",
        "        #fit the model to the data\n",
        "        model.fit(X_train,y_train)\n",
        "        #Evaluate the model and append results to empty dict\n",
        "        model_score[name]= model.score(X_test, y_test)\n",
        "    return model_score\n"
      ]
    },
    {
      "cell_type": "code",
      "execution_count": null,
      "metadata": {
        "id": "0-J2oU-Y-6b_",
        "outputId": "74d687a3-a317-4567-d3b8-67bb95194dbf"
      },
      "outputs": [
        {
          "data": {
            "text/plain": [
              "{'Logistic Regression': 0.8852459016393442,\n",
              " 'KNN': 0.6885245901639344,\n",
              " 'Random Forest': 0.8360655737704918}"
            ]
          },
          "execution_count": 23,
          "metadata": {},
          "output_type": "execute_result"
        }
      ],
      "source": [
        "my_score = fit_score(models,M_tr,M_tt,N_tr,N_tt )\n",
        "my_score"
      ]
    },
    {
      "cell_type": "code",
      "execution_count": null,
      "metadata": {
        "id": "BXWSRpjK-6cA",
        "outputId": "be233cd2-c63e-4fe0-e340-2c2568d24811"
      },
      "outputs": [
        {
          "data": {
            "image/png": "[encoded data removed]",
            "text/plain": [
              "<Figure size 432x288 with 1 Axes>"
            ]
          },
          "metadata": {
            "needs_background": "light"
          },
          "output_type": "display_data"
        }
      ],
      "source": [
        "# Model comparison\n",
        "model_df = pd.DataFrame(my_score, index = [\"accuracy\"])\n",
        "model_df.T.plot(kind= \"bar\");"
      ]
    },
    {
      "cell_type": "markdown",
      "metadata": {
        "id": "fBLmov9_-6cA"
      },
      "source": [
        "Let us look at the following:\n",
        "1. Hyperparameter tunning\n",
        "2. Feature Importance\n",
        "3. Confusion matrix\n",
        "4. Cross validation \n",
        "5. Precision\n",
        "6. Recall\n",
        "7. F1 score \n",
        "8. Classsification Report\n",
        "9. Roc curve\n",
        "10. Area under curve (AUC)"
      ]
    },
    {
      "cell_type": "markdown",
      "metadata": {
        "id": "fGIyZ41E-6cA"
      },
      "source": [
        "# Hyperparameter tunniing \n",
        "\n",
        "There are several steps to take for hyperparameter tuning\n",
        "\n",
        "1. By Hand\n",
        "2. Using RandomizedSearchCV\n",
        "3. Using GridSearchCv\n",
        "\n",
        "**Tune KNN**\n"
      ]
    },
    {
      "cell_type": "code",
      "execution_count": null,
      "metadata": {
        "id": "16CGeDdR-6cB"
      },
      "outputs": [],
      "source": [
        "train_scores = []\n",
        "test_scores = []\n",
        "\n",
        "# Create a list of different parameters for KNN\n",
        "\n",
        "# Param --- n_neighors default is 5\n",
        "n_n = np.arange(1,21)\n",
        "\n",
        "# Setup Model\n",
        "knn = KNeighborsClassifier()\n",
        "\n",
        "## loop through the param\n",
        "for i in n_n: \n",
        "    knn.set_params(n_neighbors= i)\n",
        "    \n",
        "    # fit the algorithm\n",
        "    knn.fit(M_tr,N_tr)\n",
        "    \n",
        "    # update the training scores list\n",
        "    train_scores.append(knn.score(M_tr,N_tr))\n",
        "    \n",
        "    # update the test_score list \n",
        "    test_scores.append(knn.score(M_tt,N_tt))\n",
        "    \n"
      ]
    },
    {
      "cell_type": "code",
      "execution_count": null,
      "metadata": {
        "id": "yjvHivvw-6cB",
        "outputId": "292c5217-de79-4612-89c9-2a5c564fe87b"
      },
      "outputs": [
        {
          "data": {
            "image/png": "[encoded data removed]",
            "text/plain": [
              "<Figure size 432x288 with 1 Axes>"
            ]
          },
          "metadata": {
            "needs_background": "light"
          },
          "output_type": "display_data"
        }
      ],
      "source": [
        "plt.plot(n_n, train_scores , label = \"Train score\")\n",
        "plt.plot(n_n, test_scores, label = \"Test Score\")\n",
        "plt.xlabel( \"Number of neighbors\")\n",
        "plt.ylabel(\"Model score\")\n",
        "plt.legend();"
      ]
    },
    {
      "cell_type": "markdown",
      "metadata": {
        "id": "umuy7_NY-6cB"
      },
      "source": [
        "## Hyperparameter tuning with RandomizedSearchCV\n",
        "\n",
        "We are going to tune the following models using RandomizedSearchCv:\n",
        "\n",
        "1. LogisticRegression \n",
        "2. RandomForestClassifier"
      ]
    },
    {
      "cell_type": "code",
      "execution_count": null,
      "metadata": {
        "id": "sCJZ4bgh-6cB"
      },
      "outputs": [],
      "source": [
        "# Hyperparameter grid for LogisticRegression\n",
        "\n",
        "log_reg_g = {\"C\": np.logspace(-4,4,20),\n",
        "             \"random_state\":[200],\n",
        "             \"solver\": [\"liblinear\"]}\n",
        "\n",
        "rf_grid = {\"n_estimators\":np.arange(10,100,50), \n",
        "           \"max_depth\": [None, 3,5,10], \n",
        "           \"min_samples_split\": np.arange(2,20,2),\n",
        "           \"min_samples_leaf\": np.arange(1,20,2)}"
      ]
    },
    {
      "cell_type": "code",
      "execution_count": null,
      "metadata": {
        "id": "lzJlgF-O-6cC",
        "outputId": "fcd0c7d7-eb78-453a-f09b-2418c58330b0"
      },
      "outputs": [
        {
          "name": "stdout",
          "output_type": "stream",
          "text": [
            "Fitting 7 folds for each of 20 candidates, totalling 140 fits\n"
          ]
        },
        {
          "name": "stderr",
          "output_type": "stream",
          "text": [
            "[Parallel(n_jobs=1)]: Using backend SequentialBackend with 1 concurrent workers.\n",
            "[Parallel(n_jobs=1)]: Done 140 out of 140 | elapsed:    0.6s finished\n"
          ]
        },
        {
          "data": {
            "text/plain": [
              "0.8852459016393442"
            ]
          },
          "execution_count": 37,
          "metadata": {},
          "output_type": "execute_result"
        }
      ],
      "source": [
        "# Tune Logistic Regression\n",
        "\n",
        "np.random.seed(42)\n",
        "\n",
        "# setup the RanomizedSearchCV\n",
        "Rs_logr = RandomizedSearchCV(LogisticRegression(), \n",
        "                            log_reg_g, cv =7, n_iter = 20,\n",
        "                            verbose = True)\n",
        "\n",
        "# Fit randomizedsearchcv tuned model to our training datasets\n",
        "Rs_logr.fit(M_tr,N_tr)\n",
        "\n",
        "# Score the model\n",
        "Rs_logr.score(M_tt,N_tt)"
      ]
    },
    {
      "cell_type": "code",
      "execution_count": null,
      "metadata": {
        "id": "sI7bJ5Nh-6cC",
        "outputId": "152963ec-b282-48b5-a650-4917c522c985"
      },
      "outputs": [
        {
          "name": "stdout",
          "output_type": "stream",
          "text": [
            "Fitting 7 folds for each of 20 candidates, totalling 140 fits\n"
          ]
        },
        {
          "name": "stderr",
          "output_type": "stream",
          "text": [
            "[Parallel(n_jobs=1)]: Using backend SequentialBackend with 1 concurrent workers.\n",
            "[Parallel(n_jobs=1)]: Done 140 out of 140 | elapsed:    8.9s finished\n"
          ]
        },
        {
          "data": {
            "text/plain": [
              "0.8524590163934426"
            ]
          },
          "execution_count": 44,
          "metadata": {},
          "output_type": "execute_result"
        }
      ],
      "source": [
        "# RandomizedSearchCv for RandomForestClassifier\n",
        "\n",
        "np.random.seed(42)\n",
        "\n",
        "Rs_rs = RandomizedSearchCV(RandomForestClassifier(),\n",
        "                          rf_grid, \n",
        "                          cv = 7, \n",
        "                          n_iter = 20,\n",
        "                          verbose = True)\n",
        "# Fit the tuned model \n",
        "Rs_rs.fit(M_tr,N_tr)\n",
        "\n",
        "# Evaluate the Model\n",
        "Rs_rs.score(M_tt,N_tt)"
      ]
    },
    {
      "cell_type": "code",
      "execution_count": null,
      "metadata": {
        "id": "jMhO5jMZ-6cC",
        "outputId": "71a13284-b499-40b4-d6c6-447e34a4b893"
      },
      "outputs": [
        {
          "data": {
            "text/plain": [
              "{'n_estimators': 60,\n",
              " 'min_samples_split': 12,\n",
              " 'min_samples_leaf': 11,\n",
              " 'max_depth': None}"
            ]
          },
          "execution_count": 43,
          "metadata": {},
          "output_type": "execute_result"
        }
      ],
      "source": [
        "Rs_rs.best_params_\n"
      ]
    },
    {
      "cell_type": "markdown",
      "metadata": {
        "id": "-jiyDnLP-6cD"
      },
      "source": [
        "# Hyperparameter tuning using GridSearchCV\n",
        "\n",
        "This time we focus on the LogisticRegression model since it is the \n",
        "best model so far.\n"
      ]
    },
    {
      "cell_type": "code",
      "execution_count": null,
      "metadata": {
        "id": "4C-sqb-8-6cD",
        "outputId": "8ebc0a2d-abb5-488f-81ba-049ed86c42a5"
      },
      "outputs": [
        {
          "name": "stdout",
          "output_type": "stream",
          "text": [
            "Fitting 7 folds for each of 30 candidates, totalling 210 fits\n"
          ]
        },
        {
          "name": "stderr",
          "output_type": "stream",
          "text": [
            "[Parallel(n_jobs=1)]: Using backend SequentialBackend with 1 concurrent workers.\n",
            "[Parallel(n_jobs=1)]: Done 210 out of 210 | elapsed:    1.1s finished\n"
          ]
        },
        {
          "data": {
            "text/plain": [
              "0.8852459016393442"
            ]
          },
          "execution_count": 48,
          "metadata": {},
          "output_type": "execute_result"
        }
      ],
      "source": [
        "# Grid for log_reg\n",
        "log_reg_g = {\"C\": np.logspace(-4,4,30),\n",
        "             \"random_state\":[250],\n",
        "             \"solver\": [\"liblinear\"]}\n",
        "\n",
        "# setup the gridsearchcv \n",
        "\n",
        "Gs_logr = GridSearchCV(LogisticRegression(),\n",
        "                       log_reg_g, \n",
        "                       cv = 7, \n",
        "                       verbose = True)\n",
        "\n",
        "# fit the tuned model\n",
        "Gs_logr.fit(M_tr,N_tr)\n",
        "\n",
        "# Evaluate the model\n",
        "Gs_logr.score(M_tt,N_tt)"
      ]
    },
    {
      "cell_type": "code",
      "execution_count": null,
      "metadata": {
        "id": "4P_TKK7F-6cD",
        "outputId": "049e83b7-30b1-44b9-9559-4b7b16a2379d"
      },
      "outputs": [
        {
          "data": {
            "text/plain": [
              "{'C': 0.20433597178569418, 'random_state': 250, 'solver': 'liblinear'}"
            ]
          },
          "execution_count": 47,
          "metadata": {},
          "output_type": "execute_result"
        }
      ],
      "source": [
        "Gs_logr.best_params_"
      ]
    },
    {
      "cell_type": "markdown",
      "metadata": {
        "id": "_IohxpWZ-6cE"
      },
      "source": [
        "# Evalutation of other classificatin metrics\n",
        "\n",
        "* ROC curve and AUC score\n",
        "* Confusion Matrix\n",
        "* Classification report\n",
        "* Precision\n",
        "* Recall\n",
        "* F1_score\n",
        "\n",
        "This involves making comparisons between predicted values from the trained ML and the True test labels which are expected. \n"
      ]
    },
    {
      "cell_type": "code",
      "execution_count": null,
      "metadata": {
        "id": "Bs1tKbJG-6cE",
        "outputId": "2c2c8512-6c1b-4dd2-f3b0-94e788578c23"
      },
      "outputs": [
        {
          "data": {
            "text/plain": [
              "array([0, 1, 1, 0, 1, 1, 1, 0, 0, 1, 1, 0, 1, 0, 1, 1, 1, 0, 0, 0, 1, 0,\n",
              "       0, 1, 1, 1, 1, 1, 0, 1, 0, 0, 0, 0, 1, 0, 1, 1, 1, 1, 1, 1, 1, 1,\n",
              "       1, 0, 1, 1, 0, 0, 0, 0, 1, 1, 0, 0, 0, 1, 0, 0, 0], dtype=int64)"
            ]
          },
          "execution_count": 50,
          "metadata": {},
          "output_type": "execute_result"
        }
      ],
      "source": [
        "# create y_preds\n",
        "y_pred = Gs_logr.predict(M_tt)\n",
        "y_pred"
      ]
    },
    {
      "cell_type": "code",
      "execution_count": null,
      "metadata": {
        "id": "-HIAWGFg-6cE",
        "outputId": "4d0cafa3-4b6d-42b1-a9c7-7f5fa563505c"
      },
      "outputs": [
        {
          "data": {
            "image/png": "[encoded data removed]",
            "text/plain": [
              "<Figure size 432x288 with 1 Axes>"
            ]
          },
          "metadata": {
            "needs_background": "light"
          },
          "output_type": "display_data"
        }
      ],
      "source": [
        "# Plot ROC Curve and calculate  \n",
        "plot_roc_curve(Gs_logr, M_tt,N_tt);"
      ]
    },
    {
      "cell_type": "code",
      "execution_count": null,
      "metadata": {
        "id": "AjrlKYaM-6cF",
        "outputId": "e5d335f3-46a4-4b12-a53e-a32e7d08b6c3"
      },
      "outputs": [
        {
          "data": {
            "text/plain": [
              "array([[25,  4],\n",
              "       [ 3, 29]], dtype=int64)"
            ]
          },
          "execution_count": 54,
          "metadata": {},
          "output_type": "execute_result"
        }
      ],
      "source": [
        "# Confusion Matrix\n",
        "coma = confusion_matrix(N_tt, y_pred)\n",
        "coma"
      ]
    },
    {
      "cell_type": "code",
      "execution_count": null,
      "metadata": {
        "id": "N2qhahcz-6cF",
        "outputId": "e0a2f6f2-d39a-4027-c2df-a26dcb4385da"
      },
      "outputs": [
        {
          "data": {
            "image/png": "[encoded data removed]",
            "text/plain": [
              "<Figure size 216x216 with 2 Axes>"
            ]
          },
          "metadata": {},
          "output_type": "display_data"
        }
      ],
      "source": [
        "sns.set(font_scale = 1.5)\n",
        "\n",
        "def coma_plot (x, y):\n",
        "    \n",
        "    fig, ax = plt.subplots(figsize= (3,3))\n",
        "    ax = sns.heatmap(confusion_matrix(x,y),\n",
        "     annot = True)\n",
        "    plt.xlabel (\"True Label\")\n",
        "    plt.ylabel(\"Predicted Label\")\n",
        "    plt.title(\"Confusion Matrix of Heart disease diagnosis\")\n",
        "\n",
        "coma_plot(N_tt, y_pred)"
      ]
    },
    {
      "cell_type": "code",
      "execution_count": null,
      "metadata": {
        "id": "1qHH7WKF-6cF",
        "outputId": "b3550fc0-029c-4d01-8d1f-54adb88dba46"
      },
      "outputs": [
        {
          "name": "stdout",
          "output_type": "stream",
          "text": [
            "              precision    recall  f1-score   support\n",
            "\n",
            "           0       0.89      0.86      0.88        29\n",
            "           1       0.88      0.91      0.89        32\n",
            "\n",
            "    accuracy                           0.89        61\n",
            "   macro avg       0.89      0.88      0.88        61\n",
            "weighted avg       0.89      0.89      0.89        61\n",
            "\n"
          ]
        }
      ],
      "source": [
        "# Classification Report\n",
        "print(classification_report(N_tt, y_pred))"
      ]
    },
    {
      "cell_type": "markdown",
      "metadata": {
        "id": "9zmT4LY8-6cG"
      },
      "source": [
        "## Calculate evaluation metrics using cross_validation\n",
        "\n",
        "We are going to calculate precision, recall and F1 score of the model using \n",
        "cross-validation function"
      ]
    },
    {
      "cell_type": "code",
      "execution_count": null,
      "metadata": {
        "scrolled": true,
        "id": "yC91vUgZ-6cG",
        "outputId": "a7617ee9-63d0-4f51-de74-b426f65acda9"
      },
      "outputs": [
        {
          "data": {
            "text/plain": [
              "{'C': 0.20433597178569418, 'random_state': 250, 'solver': 'liblinear'}"
            ]
          },
          "execution_count": 60,
          "metadata": {},
          "output_type": "execute_result"
        }
      ],
      "source": [
        "# Check best Hyperparameters\n",
        "\n",
        "Gs_logr.best_params_"
      ]
    },
    {
      "cell_type": "code",
      "execution_count": null,
      "metadata": {
        "id": "5Idrfj8S-6cG"
      },
      "outputs": [],
      "source": [
        "# Create a new model with the best parameters\n",
        "\n",
        "clf = LogisticRegression(C= 0.20433597178569418,random_state= 250,solver= 'liblinear')\n",
        "\n",
        "# Cross-validation Accuracy\n",
        "cv_ac =cross_val_score(clf, M, N, cv= 7, scoring = \"accuracy\" )\n",
        "m_a_cv = np.mean(cv_ac)"
      ]
    },
    {
      "cell_type": "code",
      "execution_count": null,
      "metadata": {
        "id": "M3e2p4u8-6cG"
      },
      "outputs": [],
      "source": [
        "# Cross-validation Precision\n",
        "cv_pr = cross_val_score(clf, \n",
        "                        M, N, \n",
        "                       cv = 7,\n",
        "                        scoring = \"precision\")\n",
        "m_p_cv = np.mean(cv_pr)"
      ]
    },
    {
      "cell_type": "code",
      "execution_count": null,
      "metadata": {
        "id": "yijBcPGO-6cH"
      },
      "outputs": [],
      "source": [
        "# Cross-validated recall\n",
        "cv_r = cross_val_score(clf, \n",
        "                        M, N, \n",
        "                       cv = 7,\n",
        "                        scoring = \"recall\")\n",
        "m_r_cv= np.mean(cv_r)"
      ]
    },
    {
      "cell_type": "code",
      "execution_count": null,
      "metadata": {
        "id": "p15zqpvG-6cH"
      },
      "outputs": [],
      "source": [
        "# Cross-validate F1 score\n",
        "cv_f1 = cross_val_score(clf, \n",
        "                        M, N, \n",
        "                       cv = 7,\n",
        "                        scoring = \"f1\")\n",
        "m_f_cv= np.mean(cv_f1)"
      ]
    },
    {
      "cell_type": "code",
      "execution_count": null,
      "metadata": {
        "id": "8h2JjXqN-6cH",
        "outputId": "3b97492f-a9c3-45d1-9dad-acbc2b279fbe"
      },
      "outputs": [
        {
          "data": {
            "text/html": [
              "<div>\n",
              "<style scoped>\n",
              "    .dataframe tbody tr th:only-of-type {\n",
              "        vertical-align: middle;\n",
              "    }\n",
              "\n",
              "    .dataframe tbody tr th {\n",
              "        vertical-align: top;\n",
              "    }\n",
              "\n",
              "    .dataframe thead th {\n",
              "        text-align: right;\n",
              "    }\n",
              "</style>\n",
              "<table border=\"1\" class=\"dataframe\">\n",
              "  <thead>\n",
              "    <tr style=\"text-align: right;\">\n",
              "      <th></th>\n",
              "      <th>Accuracy</th>\n",
              "      <th>Precision</th>\n",
              "      <th>Recall</th>\n",
              "      <th>F1_Score</th>\n",
              "    </tr>\n",
              "  </thead>\n",
              "  <tbody>\n",
              "    <tr>\n",
              "      <th>0</th>\n",
              "      <td>0.844986</td>\n",
              "      <td>0.815765</td>\n",
              "      <td>0.92676</td>\n",
              "      <td>0.867122</td>\n",
              "    </tr>\n",
              "  </tbody>\n",
              "</table>\n",
              "</div>"
            ],
            "text/plain": [
              "   Accuracy  Precision   Recall  F1_Score\n",
              "0  0.844986   0.815765  0.92676  0.867122"
            ]
          },
          "execution_count": 80,
          "metadata": {},
          "output_type": "execute_result"
        }
      ],
      "source": [
        "# Visualize all cross validated metrics\n",
        "\n",
        "df_cv = pd.DataFrame({\"Accuracy\":m_a_cv,\n",
        "                      \"Precision\":m_p_cv,\n",
        "                      \"Recall\":m_r_cv,\n",
        "                      \"F1_Score\":m_f_cv},index = [0] )\n",
        "df_cv"
      ]
    },
    {
      "cell_type": "code",
      "execution_count": null,
      "metadata": {
        "id": "XjFWvKbQ-6cI",
        "outputId": "2c5c861d-1044-475c-f48d-1dcda664ede0"
      },
      "outputs": [
        {
          "data": {
            "image/png": "[encoded data removed]",
            "text/plain": [
              "<Figure size 432x288 with 1 Axes>"
            ]
          },
          "metadata": {
            "needs_background": "light"
          },
          "output_type": "display_data"
        }
      ],
      "source": [
        "df_cv.T.plot.bar(title = \"Cross-Validation Metrics\");"
      ]
    },
    {
      "cell_type": "markdown",
      "metadata": {
        "id": "27TjGlXI-6cI"
      },
      "source": [
        "## Feature Importance\n",
        "\n",
        "Feature importance is another way of asking which characteristics played important\n",
        "roles in predicting the target.\n",
        "\n",
        "Finding feature importance is different for each ML model."
      ]
    },
    {
      "cell_type": "code",
      "execution_count": null,
      "metadata": {
        "id": "c93D77f2-6cI"
      },
      "outputs": [],
      "source": [
        "# Fit an instant of LogisticRegression\n",
        "Gs_logr.best_params_\n",
        "\n",
        "gld = LogisticRegression(C= 0.20433597178569418, random_state = 250, solver = 'liblinear')\n",
        "\n",
        "gld.fit(M_tr, N_tr);\n"
      ]
    },
    {
      "cell_type": "code",
      "execution_count": null,
      "metadata": {
        "id": "txIcib7X-6cI",
        "outputId": "f42d4f7b-9c17-4f99-d8d4-dab23f18e4fd"
      },
      "outputs": [
        {
          "data": {
            "text/plain": [
              "array([[ 0.00316728, -0.86044652,  0.6606704 , -0.01156993, -0.00166375,\n",
              "         0.04386107,  0.31275848,  0.02459362, -0.60413081, -0.56862803,\n",
              "         0.45051628, -0.63609898, -0.67663373]])"
            ]
          },
          "execution_count": 90,
          "metadata": {},
          "output_type": "execute_result"
        }
      ],
      "source": [
        "# Check coef\n",
        "gld.coef_"
      ]
    },
    {
      "cell_type": "code",
      "execution_count": null,
      "metadata": {
        "id": "cCbiYggA-6cJ",
        "outputId": "067161b3-87d2-4a84-ede8-3dfecab760fc"
      },
      "outputs": [
        {
          "data": {
            "text/plain": [
              "{'age': 0.0031672806268220445,\n",
              " 'sex': -0.8604465226286001,\n",
              " 'cp': 0.6606703996492814,\n",
              " 'trestbps': -0.011569930743501303,\n",
              " 'chol': -0.001663745833540806,\n",
              " 'fbs': 0.043861067871676124,\n",
              " 'restecg': 0.3127584791782968,\n",
              " 'thalach': 0.02459361509185037,\n",
              " 'exang': -0.6041308102637141,\n",
              " 'oldpeak': -0.5686280255489925,\n",
              " 'slope': 0.4505162810238786,\n",
              " 'ca': -0.6360989756865822,\n",
              " 'thal': -0.67663372723561}"
            ]
          },
          "execution_count": 92,
          "metadata": {},
          "output_type": "execute_result"
        }
      ],
      "source": [
        "# Match the coef_ of the features to their respective attribute columns\n",
        "\n",
        "feat_dict= dict(zip(df.columns,list(gld.coef_[0])))\n",
        "feat_dict"
      ]
    },
    {
      "cell_type": "code",
      "execution_count": null,
      "metadata": {
        "id": "C9K90NN8-6cJ",
        "outputId": "7bf4edaa-b0f7-4d8f-9597-49e4934d734c"
      },
      "outputs": [
        {
          "data": {
            "image/png": "[encoded data removed]",
            "text/plain": [
              "<Figure size 432x288 with 1 Axes>"
            ]
          },
          "metadata": {
            "needs_background": "light"
          },
          "output_type": "display_data"
        }
      ],
      "source": [
        "# visuallize feature importance\n",
        "\n",
        "feat_df = pd.DataFrame(feat_dict, index=[0])\n",
        "feat_df.T.plot.bar(title= \"Feature Importance\", legend= False);"
      ]
    },
    {
      "cell_type": "code",
      "execution_count": null,
      "metadata": {
        "id": "nK7ifU2c-6cJ",
        "outputId": "b8893e4f-ffbe-4172-9545-6346a1518784"
      },
      "outputs": [
        {
          "data": {
            "text/html": [
              "<div>\n",
              "<style scoped>\n",
              "    .dataframe tbody tr th:only-of-type {\n",
              "        vertical-align: middle;\n",
              "    }\n",
              "\n",
              "    .dataframe tbody tr th {\n",
              "        vertical-align: top;\n",
              "    }\n",
              "\n",
              "    .dataframe thead th {\n",
              "        text-align: right;\n",
              "    }\n",
              "</style>\n",
              "<table border=\"1\" class=\"dataframe\">\n",
              "  <thead>\n",
              "    <tr style=\"text-align: right;\">\n",
              "      <th>target</th>\n",
              "      <th>0</th>\n",
              "      <th>1</th>\n",
              "    </tr>\n",
              "    <tr>\n",
              "      <th>sex</th>\n",
              "      <th></th>\n",
              "      <th></th>\n",
              "    </tr>\n",
              "  </thead>\n",
              "  <tbody>\n",
              "    <tr>\n",
              "      <th>0</th>\n",
              "      <td>24</td>\n",
              "      <td>72</td>\n",
              "    </tr>\n",
              "    <tr>\n",
              "      <th>1</th>\n",
              "      <td>114</td>\n",
              "      <td>93</td>\n",
              "    </tr>\n",
              "  </tbody>\n",
              "</table>\n",
              "</div>"
            ],
            "text/plain": [
              "target    0   1\n",
              "sex            \n",
              "0        24  72\n",
              "1       114  93"
            ]
          },
          "execution_count": 97,
          "metadata": {},
          "output_type": "execute_result"
        }
      ],
      "source": [
        "pd.crosstab(df[\"sex\"], df[\"target\"])"
      ]
    },
    {
      "cell_type": "markdown",
      "metadata": {
        "id": "C81KxCEV-6cK"
      },
      "source": [
        "## Experimentation\n",
        "\n",
        "If you have not reached or beat the project evaluation metric yet ... ask yourself several...\n",
        "\n",
        "* Could we collect more data?\n",
        "* Could we try a better model? Like CatBoost or XGBoost?\n",
        "* Could we improve the current model by tuning using more parameters\n",
        "\n",
        "* But if on the contrary the evaluation was achieved then how do i export it and send to my boss?\n"
      ]
    },
    {
      "cell_type": "code",
      "execution_count": null,
      "metadata": {
        "id": "k4melDP_-6cK"
      },
      "outputs": [],
      "source": []
    }
  ],
  "metadata": {
    "kernelspec": {
      "display_name": "Python 3",
      "language": "python",
      "name": "python3"
    },
    "language_info": {
      "codemirror_mode": {
        "name": "ipython",
        "version": 3
      },
      "file_extension": ".py",
      "mimetype": "text/x-python",
      "name": "python",
      "nbconvert_exporter": "python",
      "pygments_lexer": "ipython3",
      "version": "3.7.1"
    },
    "colab": {
      "provenance": [],
      "include_colab_link": true
    }
  },
  "nbformat": 4,
  "nbformat_minor": 0
}